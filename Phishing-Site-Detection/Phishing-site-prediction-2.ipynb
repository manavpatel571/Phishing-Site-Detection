{
 "cells": [
  {
   "cell_type": "markdown",
   "id": "f7ed1d6b",
   "metadata": {},
   "source": [
    "# Phishing website detection using Image Model"
   ]
  },
  {
   "cell_type": "code",
   "execution_count": 2,
   "id": "4c234a78",
   "metadata": {},
   "outputs": [],
   "source": [
    "# Import necessary libraries and modules\n",
    "from sklearn.model_selection import train_test_split\n",
    "import glob\n",
    "from tensorflow.keras.applications.vgg16 import VGG16\n",
    "from tensorflow.keras.preprocessing import image\n",
    "from tensorflow.keras.preprocessing.image import load_img, img_to_array\n",
    "from tensorflow.keras.applications.vgg16 import preprocess_input\n",
    "import numpy as np\n",
    "import os\n",
    "\n",
    "\n",
    "\n",
    "# Define a function to load and preprocess images\n",
    "def load_and_preprocess_images(image_paths, target_size=(224, 224)):\n",
    "    images = []\n",
    "    for image_path in image_paths:\n",
    "        img = image.load_img(image_path, target_size=target_size)\n",
    "        img = image.img_to_array(img)\n",
    "        img = preprocess_input(img)\n",
    "        images.append(img)\n",
    "    return np.array(images)\n",
    "\n",
    "# Load your image file paths\n",
    "safe_site_images = glob.glob(r'D:\\Project_Fake_Site_Detection\\Safe_Site\\*.png')\n",
    "unsafe_site_images = glob.glob(r'D:\\Project_Fake_Site_Detection\\Unsafe_Site\\*.png')\n",
    "\n",
    "# Load and preprocess image data\n",
    "safe_site_data = load_and_preprocess_images(safe_site_images)\n",
    "unsafe_site_data = load_and_preprocess_images(unsafe_site_images)\n",
    "\n",
    "# Create labels\n",
    "safe_labels = np.zeros(len(safe_site_data))  # Label 0 for safe sites\n",
    "unsafe_labels = np.ones(len(unsafe_site_data))  # Label 1 for unsafe sites\n",
    "\n",
    "# Combine data and labels\n",
    "X = np.concatenate((safe_site_data, unsafe_site_data), axis=0)\n",
    "y = np.concatenate((safe_labels, unsafe_labels), axis=0)\n",
    "\n",
    "# Split data into training and testing sets\n",
    "X_train, X_test, y_train, y_test = train_test_split(X, y, test_size=0.2, random_state=42)"
   ]
  },
  {
   "cell_type": "code",
   "execution_count": 3,
   "id": "961d9429",
   "metadata": {},
   "outputs": [],
   "source": [
    "# Import necessary Keras modules for building the model\n",
    "from keras.applications import VGG16\n",
    "from keras.layers import Dense, Flatten\n",
    "from keras.models import Model\n",
    "from keras.optimizers import Adam\n",
    "\n",
    "# Load the VGG16 model with pre-trained weights and customize the top layers\n",
    "base_model = VGG16(weights='imagenet', include_top=False, input_shape=(224, 224, 3))"
   ]
  },
  {
   "cell_type": "code",
   "execution_count": 4,
   "id": "ad25bc0f",
   "metadata": {},
   "outputs": [],
   "source": [
    "# Add custom fully connected layers on top of VGG16\n",
    "x = Flatten()(base_model.output)\n",
    "x = Dense(128, activation='relu')(x)\n",
    "predictions = Dense(1, activation='sigmoid')(x)\n",
    "\n",
    "# Create the final model\n",
    "model = Model(inputs=base_model.input, outputs=predictions)"
   ]
  },
  {
   "cell_type": "code",
   "execution_count": 5,
   "id": "3920d7b6",
   "metadata": {},
   "outputs": [
    {
     "name": "stderr",
     "output_type": "stream",
     "text": [
      "WARNING:absl:`lr` is deprecated in Keras optimizer, please use `learning_rate` or use the legacy optimizer, e.g.,tf.keras.optimizers.legacy.Adam.\n"
     ]
    }
   ],
   "source": [
    "# Compile the model\n",
    "model.compile(optimizer=Adam(lr=0.0001), loss='binary_crossentropy', metrics=['accuracy'])"
   ]
  },
  {
   "cell_type": "code",
   "execution_count": 6,
   "id": "be0cf5c3",
   "metadata": {},
   "outputs": [
    {
     "name": "stdout",
     "output_type": "stream",
     "text": [
      "Epoch 1/13\n",
      "23/23 [==============================] - 184s 8s/step - loss: 12.1218 - accuracy: 0.6317 - val_loss: 0.7306 - val_accuracy: 0.5109\n",
      "Epoch 2/13\n",
      "23/23 [==============================] - 177s 8s/step - loss: 0.5090 - accuracy: 0.7599 - val_loss: 0.4808 - val_accuracy: 0.7446\n",
      "Epoch 3/13\n",
      "23/23 [==============================] - 176s 8s/step - loss: 0.4020 - accuracy: 0.8213 - val_loss: 0.3448 - val_accuracy: 0.8533\n",
      "Epoch 4/13\n",
      "23/23 [==============================] - 175s 8s/step - loss: 0.2867 - accuracy: 0.8881 - val_loss: 0.3132 - val_accuracy: 0.8913\n",
      "Epoch 5/13\n",
      "23/23 [==============================] - 176s 8s/step - loss: 0.3058 - accuracy: 0.8813 - val_loss: 0.2948 - val_accuracy: 0.8696\n",
      "Epoch 6/13\n",
      "23/23 [==============================] - 175s 8s/step - loss: 0.2585 - accuracy: 0.8922 - val_loss: 0.2883 - val_accuracy: 0.9076\n",
      "Epoch 7/13\n",
      "23/23 [==============================] - 179s 8s/step - loss: 0.2327 - accuracy: 0.9141 - val_loss: 0.3818 - val_accuracy: 0.9022\n",
      "Epoch 8/13\n",
      "23/23 [==============================] - 177s 8s/step - loss: 0.1724 - accuracy: 0.9345 - val_loss: 0.2917 - val_accuracy: 0.9185\n",
      "Epoch 9/13\n",
      "23/23 [==============================] - 175s 8s/step - loss: 0.1698 - accuracy: 0.9359 - val_loss: 0.2646 - val_accuracy: 0.9185\n",
      "Epoch 10/13\n",
      "23/23 [==============================] - 175s 8s/step - loss: 0.1241 - accuracy: 0.9509 - val_loss: 0.2452 - val_accuracy: 0.9293\n",
      "Epoch 11/13\n",
      "23/23 [==============================] - 176s 8s/step - loss: 0.1347 - accuracy: 0.9591 - val_loss: 0.2241 - val_accuracy: 0.9239\n",
      "Epoch 12/13\n",
      "23/23 [==============================] - 176s 8s/step - loss: 0.1095 - accuracy: 0.9632 - val_loss: 0.3440 - val_accuracy: 0.9076\n",
      "Epoch 13/13\n",
      "23/23 [==============================] - 176s 8s/step - loss: 0.1135 - accuracy: 0.9591 - val_loss: 0.3800 - val_accuracy: 0.9185\n"
     ]
    },
    {
     "data": {
      "text/plain": [
       "<keras.src.callbacks.History at 0x29616f1e200>"
      ]
     },
     "execution_count": 6,
     "metadata": {},
     "output_type": "execute_result"
    }
   ],
   "source": [
    "# Specify training parameters\n",
    "epochs = 13  \n",
    "batch_size = 32  \n",
    "\n",
    "model.fit(\n",
    "    X_train,\n",
    "    y_train,\n",
    "    epochs=epochs,\n",
    "    batch_size=batch_size,\n",
    "    validation_data=(X_test, y_test)\n",
    ")\n"
   ]
  },
  {
   "cell_type": "code",
   "execution_count": 7,
   "id": "f2967121",
   "metadata": {},
   "outputs": [
    {
     "name": "stdout",
     "output_type": "stream",
     "text": [
      "6/6 [==============================] - 8s 1s/step - loss: 0.3800 - accuracy: 0.9185\n",
      "Test loss: 0.3800\n",
      "Test accuracy: 91.85%\n"
     ]
    }
   ],
   "source": [
    "#  Evaluate the model on the test set\n",
    "test_loss, test_accuracy = model.evaluate(X_test, y_test)\n",
    "print(f'Test loss: {test_loss:.4f}')\n",
    "print(f'Test accuracy: {test_accuracy * 100:.2f}%')\n"
   ]
  },
  {
   "cell_type": "code",
   "execution_count": null,
   "id": "9114b520",
   "metadata": {},
   "outputs": [],
   "source": [
    "# Save the trained model\n",
    "model.save('phishing_detection_model.h5')"
   ]
  },
  {
   "cell_type": "code",
   "execution_count": 1,
   "id": "6ba1aa3b",
   "metadata": {},
   "outputs": [],
   "source": [
    "from keras.models import load_model\n",
    "model = load_model('phishing_detection_model.h5')"
   ]
  },
  {
   "cell_type": "code",
   "execution_count": 8,
   "id": "42af6b26",
   "metadata": {},
   "outputs": [
    {
     "name": "stdout",
     "output_type": "stream",
     "text": [
      "1/1 [==============================] - 0s 205ms/step\n",
      "[[99.99822]] %\n"
     ]
    },
    {
     "data": {
      "image/png": "[encoded data removed]",
      "text/plain": [
       "<Figure size 640x480 with 1 Axes>"
      ]
     },
     "metadata": {},
     "output_type": "display_data"
    }
   ],
   "source": [
    "# Import necessary libraries for making predictions on a new image\n",
    "from keras.applications.vgg16 import preprocess_input\n",
    "from PIL import Image\n",
    "import numpy as np\n",
    "\n",
    "# Load and preprocess the example image\n",
    "example_image_path = r'D:\\Images for Checking\\datayummy-neat-frantic-sound.png'  # Replace with the actual path to your image\n",
    "img = Image.open(example_image_path)\n",
    "img = img.convert('RGB')  # Convert to RGB mode\n",
    "img = img.resize((224, 224))  # Resize the image to match the VGG16 input size\n",
    "img = np.array(img)\n",
    "img = preprocess_input(img)\n",
    "img = np.expand_dims(img, axis=0)\n",
    "\n",
    "# Make predictions with the model\n",
    "prediction = model.predict(img)\n",
    "probability = prediction*100\n",
    "print(probability, '%')\n",
    "\n",
    "# The 'prediction' variable contains the model's output, which indicates whether the site is phishing or not.\n",
    "\n",
    "import matplotlib.pyplot as plt\n",
    "\n",
    "plt.imshow(Image.open(example_image_path))\n",
    "plt.axis('off')\n",
    "\n",
    "if prediction > 0.5:\n",
    "    plt.title(\"Unsafe Site\")\n",
    "else:\n",
    "    plt.title(\"Safe Site\")\n",
    "\n",
    "plt.show()\n"
   ]
  },
  {
   "cell_type": "code",
   "execution_count": null,
   "id": "81014713",
   "metadata": {},
   "outputs": [],
   "source": []
  },
  {
   "cell_type": "code",
   "execution_count": null,
   "id": "2c181a45",
   "metadata": {},
   "outputs": [],
   "source": []
  }
 ],
 "metadata": {
  "kernelspec": {
   "display_name": "Python 3 (ipykernel)",
   "language": "python",
   "name": "python3"
  },
  "language_info": {
   "codemirror_mode": {
    "name": "ipython",
    "version": 3
   },
   "file_extension": ".py",
   "mimetype": "text/x-python",
   "name": "python",
   "nbconvert_exporter": "python",
   "pygments_lexer": "ipython3",
   "version": "3.10.9"
  },
  "varInspector": {
   "cols": {
    "lenName": 16,
    "lenType": 16,
    "lenVar": 40
   },
   "kernels_config": {
    "python": {
     "delete_cmd_postfix": "",
     "delete_cmd_prefix": "del ",
     "library": "var_list.py",
     "varRefreshCmd": "print(var_dic_list())"
    },
    "r": {
     "delete_cmd_postfix": ") ",
     "delete_cmd_prefix": "rm(",
     "library": "var_list.r",
     "varRefreshCmd": "cat(var_dic_list()) "
    }
   },
   "types_to_exclude": [
    "module",
    "function",
    "builtin_function_or_method",
    "instance",
    "_Feature"
   ],
   "window_display": false
  }
 },
 "nbformat": 4,
 "nbformat_minor": 5
}
